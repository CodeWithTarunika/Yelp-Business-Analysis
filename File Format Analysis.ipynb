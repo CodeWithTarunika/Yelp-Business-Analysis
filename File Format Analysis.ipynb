{
 "cells": [
  {
   "cell_type": "code",
   "execution_count": 39,
   "id": "af6835d6",
   "metadata": {},
   "outputs": [],
   "source": [
    "import os\n",
    "import math\n",
    "import pandas as pd\n",
    "import numpy as np\n",
    "import warnings\n",
    "warnings.filterwarnings(\"ignore\")"
   ]
  },
  {
   "cell_type": "markdown",
   "id": "5ddefd04",
   "metadata": {},
   "source": [
    "#  CREATE DATASET"
   ]
  },
  {
   "cell_type": "code",
   "execution_count": 2,
   "id": "fd20e93b",
   "metadata": {},
   "outputs": [],
   "source": [
    "def create_dataset(size):\n",
    "    df = pd.DataFrame()\n",
    "    df['size'] = np.random.choice(['big','medium','small'], size)\n",
    "    df['age'] = np.random.randint(1, 50, size)\n",
    "    df['team'] = np.random.choice(['red','blue','yellow','green'], size)\n",
    "    df['win'] = np.random.choice(['yes','no'], size)\n",
    "    dates = pd.date_range('2020-01-01', '2022-12-31')\n",
    "    df['date'] = np.random.choice(dates, size)\n",
    "    df['prob'] = np.random.uniform(0, 1, size)\n",
    "    return df\n",
    "\n",
    "def set_dtypes(df):\n",
    "    df['size'] = df['size'].astype('category')\n",
    "    df['team'] = df['team'].astype('category')\n",
    "    df['age'] = df['age'].astype('int16')\n",
    "    df['win'] = df['win'].map({'yes':True, 'no': False})\n",
    "    df['prob'] = df['prob'].astype('float32')\n",
    "    return df"
   ]
  },
  {
   "cell_type": "code",
   "execution_count": 3,
   "id": "fc963007",
   "metadata": {},
   "outputs": [],
   "source": [
    "def file_size(file_path):\n",
    "    \"\"\"Convert file size to human-readable output.\"\"\"\n",
    "    try:\n",
    "        size = os.path.getsize(file_path)\n",
    "        units = ['B', 'KB', 'MB', 'GB']\n",
    "        i = max(0, min(len(units) - 1, int(math.floor(math.log(size, 1024)))))\n",
    "        hsize = f\"{round(size / (1024 ** i), 2)}{units[i]}\"\n",
    "    except (ValueError, FileNotFoundError):\n",
    "        hsize = '0B'\n",
    "    return hsize\n"
   ]
  },
  {
   "cell_type": "code",
   "execution_count": 4,
   "id": "b41a7662",
   "metadata": {},
   "outputs": [],
   "source": [
    "df=create_dataset(1_000_000)"
   ]
  },
  {
   "cell_type": "code",
   "execution_count": 5,
   "id": "afb60df0",
   "metadata": {},
   "outputs": [],
   "source": [
    "df=set_dtypes(df)"
   ]
  },
  {
   "cell_type": "code",
   "execution_count": 6,
   "id": "7f78d4ee",
   "metadata": {},
   "outputs": [
    {
     "data": {
      "text/html": [
       "<div>\n",
       "<style scoped>\n",
       "    .dataframe tbody tr th:only-of-type {\n",
       "        vertical-align: middle;\n",
       "    }\n",
       "\n",
       "    .dataframe tbody tr th {\n",
       "        vertical-align: top;\n",
       "    }\n",
       "\n",
       "    .dataframe thead th {\n",
       "        text-align: right;\n",
       "    }\n",
       "</style>\n",
       "<table border=\"1\" class=\"dataframe\">\n",
       "  <thead>\n",
       "    <tr style=\"text-align: right;\">\n",
       "      <th></th>\n",
       "      <th>size</th>\n",
       "      <th>age</th>\n",
       "      <th>team</th>\n",
       "      <th>win</th>\n",
       "      <th>date</th>\n",
       "      <th>prob</th>\n",
       "    </tr>\n",
       "  </thead>\n",
       "  <tbody>\n",
       "    <tr>\n",
       "      <th>0</th>\n",
       "      <td>small</td>\n",
       "      <td>38</td>\n",
       "      <td>yellow</td>\n",
       "      <td>False</td>\n",
       "      <td>2020-05-02</td>\n",
       "      <td>0.402611</td>\n",
       "    </tr>\n",
       "    <tr>\n",
       "      <th>1</th>\n",
       "      <td>small</td>\n",
       "      <td>4</td>\n",
       "      <td>green</td>\n",
       "      <td>True</td>\n",
       "      <td>2020-03-29</td>\n",
       "      <td>0.864061</td>\n",
       "    </tr>\n",
       "    <tr>\n",
       "      <th>2</th>\n",
       "      <td>medium</td>\n",
       "      <td>46</td>\n",
       "      <td>red</td>\n",
       "      <td>True</td>\n",
       "      <td>2022-06-17</td>\n",
       "      <td>0.424941</td>\n",
       "    </tr>\n",
       "    <tr>\n",
       "      <th>3</th>\n",
       "      <td>small</td>\n",
       "      <td>27</td>\n",
       "      <td>blue</td>\n",
       "      <td>False</td>\n",
       "      <td>2022-04-02</td>\n",
       "      <td>0.856769</td>\n",
       "    </tr>\n",
       "    <tr>\n",
       "      <th>4</th>\n",
       "      <td>small</td>\n",
       "      <td>43</td>\n",
       "      <td>yellow</td>\n",
       "      <td>True</td>\n",
       "      <td>2022-05-25</td>\n",
       "      <td>0.950643</td>\n",
       "    </tr>\n",
       "  </tbody>\n",
       "</table>\n",
       "</div>"
      ],
      "text/plain": [
       "     size  age    team    win       date      prob\n",
       "0   small   38  yellow  False 2020-05-02  0.402611\n",
       "1   small    4   green   True 2020-03-29  0.864061\n",
       "2  medium   46     red   True 2022-06-17  0.424941\n",
       "3   small   27    blue  False 2022-04-02  0.856769\n",
       "4   small   43  yellow   True 2022-05-25  0.950643"
      ]
     },
     "execution_count": 6,
     "metadata": {},
     "output_type": "execute_result"
    }
   ],
   "source": [
    "df.head()"
   ]
  },
  {
   "cell_type": "code",
   "execution_count": 7,
   "id": "25496e1f",
   "metadata": {},
   "outputs": [
    {
     "name": "stdout",
     "output_type": "stream",
     "text": [
      "<class 'pandas.core.frame.DataFrame'>\n",
      "RangeIndex: 1000000 entries, 0 to 999999\n",
      "Data columns (total 6 columns):\n",
      " #   Column  Non-Null Count    Dtype         \n",
      "---  ------  --------------    -----         \n",
      " 0   size    1000000 non-null  category      \n",
      " 1   age     1000000 non-null  int16         \n",
      " 2   team    1000000 non-null  category      \n",
      " 3   win     1000000 non-null  bool          \n",
      " 4   date    1000000 non-null  datetime64[ns]\n",
      " 5   prob    1000000 non-null  float32       \n",
      "dtypes: bool(1), category(2), datetime64[ns](1), float32(1), int16(1)\n",
      "memory usage: 16.2 MB\n"
     ]
    }
   ],
   "source": [
    "df.info()"
   ]
  },
  {
   "cell_type": "markdown",
   "id": "9c63b07b",
   "metadata": {},
   "source": [
    "# CSV FILE"
   ]
  },
  {
   "cell_type": "code",
   "execution_count": 8,
   "id": "7645eb5a",
   "metadata": {},
   "outputs": [
    {
     "name": "stdout",
     "output_type": "stream",
     "text": [
      "10.5 s ± 471 ms per loop (mean ± std. dev. of 7 runs, 1 loop each)\n"
     ]
    }
   ],
   "source": [
    "to_csv_result = %timeit -o df.to_csv('test1.csv', index=False)"
   ]
  },
  {
   "cell_type": "code",
   "execution_count": 9,
   "id": "a54d3b23",
   "metadata": {},
   "outputs": [
    {
     "name": "stdout",
     "output_type": "stream",
     "text": [
      "669 ms ± 25.8 ms per loop (mean ± std. dev. of 7 runs, 1 loop each)\n"
     ]
    }
   ],
   "source": [
    "df_csv_result = %timeit -o pd.read_csv('test1.csv')"
   ]
  },
  {
   "cell_type": "code",
   "execution_count": 10,
   "id": "88569e9e",
   "metadata": {},
   "outputs": [
    {
     "name": "stdout",
     "output_type": "stream",
     "text": [
      "CSV File Size: 40.16MB\n"
     ]
    }
   ],
   "source": [
    "size_csv = file_size('test1.csv')\n",
    "print(f\"CSV File Size: {size_csv}\")"
   ]
  },
  {
   "cell_type": "code",
   "execution_count": 13,
   "id": "fd659a54",
   "metadata": {},
   "outputs": [
    {
     "name": "stdout",
     "output_type": "stream",
     "text": [
      "<class 'pandas.core.frame.DataFrame'>\n",
      "RangeIndex: 1000000 entries, 0 to 999999\n",
      "Data columns (total 6 columns):\n",
      " #   Column  Non-Null Count    Dtype  \n",
      "---  ------  --------------    -----  \n",
      " 0   size    1000000 non-null  object \n",
      " 1   age     1000000 non-null  int64  \n",
      " 2   team    1000000 non-null  object \n",
      " 3   win     1000000 non-null  bool   \n",
      " 4   date    1000000 non-null  object \n",
      " 5   prob    1000000 non-null  float64\n",
      "dtypes: bool(1), float64(1), int64(1), object(3)\n",
      "memory usage: 39.1+ MB\n"
     ]
    }
   ],
   "source": [
    "df_csv=pd.read_csv('test1.csv')\n",
    "df_csv.info()"
   ]
  },
  {
   "cell_type": "markdown",
   "id": "5fd5c8de",
   "metadata": {},
   "source": [
    "# PICKLE FILE"
   ]
  },
  {
   "cell_type": "code",
   "execution_count": 14,
   "id": "5bb12d32",
   "metadata": {},
   "outputs": [
    {
     "name": "stdout",
     "output_type": "stream",
     "text": [
      "17.2 ms ± 1.33 ms per loop (mean ± std. dev. of 7 runs, 10 loops each)\n"
     ]
    }
   ],
   "source": [
    "to_pickle_result = %timeit -o df.to_pickle('test2.pickle')"
   ]
  },
  {
   "cell_type": "code",
   "execution_count": 15,
   "id": "f4608745",
   "metadata": {},
   "outputs": [
    {
     "name": "stdout",
     "output_type": "stream",
     "text": [
      "12.2 ms ± 658 µs per loop (mean ± std. dev. of 7 runs, 100 loops each)\n"
     ]
    }
   ],
   "source": [
    "df_pickle_result = %timeit -o pd.read_pickle('test2.pickle')"
   ]
  },
  {
   "cell_type": "code",
   "execution_count": 16,
   "id": "084efe2b",
   "metadata": {},
   "outputs": [
    {
     "name": "stdout",
     "output_type": "stream",
     "text": [
      "Pickle File Size: 16.21MB\n"
     ]
    }
   ],
   "source": [
    "size_pickle = file_size('test2.pickle')\n",
    "print(f\"Pickle File Size: {size_pickle}\")"
   ]
  },
  {
   "cell_type": "code",
   "execution_count": 17,
   "id": "e463003e",
   "metadata": {},
   "outputs": [
    {
     "name": "stdout",
     "output_type": "stream",
     "text": [
      "<class 'pandas.core.frame.DataFrame'>\n",
      "RangeIndex: 1000000 entries, 0 to 999999\n",
      "Data columns (total 6 columns):\n",
      " #   Column  Non-Null Count    Dtype         \n",
      "---  ------  --------------    -----         \n",
      " 0   size    1000000 non-null  category      \n",
      " 1   age     1000000 non-null  int16         \n",
      " 2   team    1000000 non-null  category      \n",
      " 3   win     1000000 non-null  bool          \n",
      " 4   date    1000000 non-null  datetime64[ns]\n",
      " 5   prob    1000000 non-null  float32       \n",
      "dtypes: bool(1), category(2), datetime64[ns](1), float32(1), int16(1)\n",
      "memory usage: 16.2 MB\n"
     ]
    }
   ],
   "source": [
    "df_pickle=pd.read_pickle('test2.pickle')\n",
    "df_pickle.info()"
   ]
  },
  {
   "cell_type": "markdown",
   "id": "d69db451",
   "metadata": {},
   "source": [
    "# PARQUET FILE"
   ]
  },
  {
   "cell_type": "code",
   "execution_count": 18,
   "id": "a7ee0af8",
   "metadata": {},
   "outputs": [
    {
     "name": "stdout",
     "output_type": "stream",
     "text": [
      "189 ms ± 26.5 ms per loop (mean ± std. dev. of 7 runs, 1 loop each)\n"
     ]
    }
   ],
   "source": [
    "to_parquet_result = %timeit -o df.to_parquet('test3.parquet')"
   ]
  },
  {
   "cell_type": "code",
   "execution_count": 19,
   "id": "536a074f",
   "metadata": {},
   "outputs": [
    {
     "name": "stdout",
     "output_type": "stream",
     "text": [
      "46.8 ms ± 11.6 ms per loop (mean ± std. dev. of 7 runs, 1 loop each)\n"
     ]
    }
   ],
   "source": [
    "df_parquet_result = %timeit -o pd.read_parquet('test3.parquet')"
   ]
  },
  {
   "cell_type": "code",
   "execution_count": 20,
   "id": "a5c832cd",
   "metadata": {},
   "outputs": [
    {
     "name": "stdout",
     "output_type": "stream",
     "text": [
      "Parquet File Size: 7.05MB\n"
     ]
    }
   ],
   "source": [
    "size_parquet = file_size('test3.parquet')\n",
    "print(f\"Parquet File Size: {size_parquet}\")"
   ]
  },
  {
   "cell_type": "code",
   "execution_count": 22,
   "id": "4d23d984",
   "metadata": {},
   "outputs": [
    {
     "name": "stdout",
     "output_type": "stream",
     "text": [
      "<class 'pandas.core.frame.DataFrame'>\n",
      "RangeIndex: 1000000 entries, 0 to 999999\n",
      "Data columns (total 6 columns):\n",
      " #   Column  Non-Null Count    Dtype         \n",
      "---  ------  --------------    -----         \n",
      " 0   size    1000000 non-null  category      \n",
      " 1   age     1000000 non-null  int16         \n",
      " 2   team    1000000 non-null  category      \n",
      " 3   win     1000000 non-null  bool          \n",
      " 4   date    1000000 non-null  datetime64[ns]\n",
      " 5   prob    1000000 non-null  float32       \n",
      "dtypes: bool(1), category(2), datetime64[ns](1), float32(1), int16(1)\n",
      "memory usage: 16.2 MB\n"
     ]
    }
   ],
   "source": [
    "df_parquet=pd.read_parquet('test3.parquet')\n",
    "df_parquet.info()"
   ]
  },
  {
   "cell_type": "markdown",
   "id": "49e4e634",
   "metadata": {},
   "source": [
    "# FEATHER FILE"
   ]
  },
  {
   "cell_type": "code",
   "execution_count": 23,
   "id": "73b9ba8c",
   "metadata": {},
   "outputs": [
    {
     "name": "stdout",
     "output_type": "stream",
     "text": [
      "56 ms ± 7.63 ms per loop (mean ± std. dev. of 7 runs, 10 loops each)\n"
     ]
    }
   ],
   "source": [
    "to_feather_result = %timeit -o df.to_feather('test4.feather')"
   ]
  },
  {
   "cell_type": "code",
   "execution_count": 24,
   "id": "080b81d7",
   "metadata": {},
   "outputs": [
    {
     "name": "stdout",
     "output_type": "stream",
     "text": [
      "30.9 ms ± 4.35 ms per loop (mean ± std. dev. of 7 runs, 10 loops each)\n"
     ]
    }
   ],
   "source": [
    "df_feather_result = %timeit -o pd.read_feather('test4.feather')"
   ]
  },
  {
   "cell_type": "code",
   "execution_count": 25,
   "id": "7b7c915c",
   "metadata": {},
   "outputs": [
    {
     "name": "stdout",
     "output_type": "stream",
     "text": [
      "Feather File Size: 9.78MB\n"
     ]
    }
   ],
   "source": [
    "size_feather = file_size('test4.feather')\n",
    "print(f\"Feather File Size: {size_feather}\")"
   ]
  },
  {
   "cell_type": "code",
   "execution_count": 26,
   "id": "a010de68",
   "metadata": {},
   "outputs": [
    {
     "name": "stdout",
     "output_type": "stream",
     "text": [
      "<class 'pandas.core.frame.DataFrame'>\n",
      "RangeIndex: 1000000 entries, 0 to 999999\n",
      "Data columns (total 6 columns):\n",
      " #   Column  Non-Null Count    Dtype         \n",
      "---  ------  --------------    -----         \n",
      " 0   size    1000000 non-null  category      \n",
      " 1   age     1000000 non-null  int16         \n",
      " 2   team    1000000 non-null  category      \n",
      " 3   win     1000000 non-null  bool          \n",
      " 4   date    1000000 non-null  datetime64[ns]\n",
      " 5   prob    1000000 non-null  float32       \n",
      "dtypes: bool(1), category(2), datetime64[ns](1), float32(1), int16(1)\n",
      "memory usage: 16.2 MB\n"
     ]
    }
   ],
   "source": [
    "df_feather=pd.read_feather('test4.feather')\n",
    "df_feather.info()"
   ]
  },
  {
   "cell_type": "markdown",
   "id": "ec7dd622",
   "metadata": {},
   "source": [
    "# TIME AND SPACE ANALYSIS"
   ]
  },
  {
   "cell_type": "code",
   "execution_count": 46,
   "id": "14612e31",
   "metadata": {},
   "outputs": [],
   "source": [
    "import seaborn as sns\n",
    "import matplotlib.pyplot as plt"
   ]
  },
  {
   "cell_type": "markdown",
   "id": "2c4470a8",
   "metadata": {},
   "source": [
    "### Analysis of the time taken to store data into different file formats"
   ]
  },
  {
   "cell_type": "code",
   "execution_count": 44,
   "id": "2b6b8e4f",
   "metadata": {},
   "outputs": [
    {
     "data": {
      "text/html": [
       "<div>\n",
       "<style scoped>\n",
       "    .dataframe tbody tr th:only-of-type {\n",
       "        vertical-align: middle;\n",
       "    }\n",
       "\n",
       "    .dataframe tbody tr th {\n",
       "        vertical-align: top;\n",
       "    }\n",
       "\n",
       "    .dataframe thead th {\n",
       "        text-align: right;\n",
       "    }\n",
       "</style>\n",
       "<table border=\"1\" class=\"dataframe\">\n",
       "  <thead>\n",
       "    <tr style=\"text-align: right;\">\n",
       "      <th></th>\n",
       "      <th>Files</th>\n",
       "      <th>Time in seconds</th>\n",
       "    </tr>\n",
       "  </thead>\n",
       "  <tbody>\n",
       "    <tr>\n",
       "      <th>1</th>\n",
       "      <td>Pickle</td>\n",
       "      <td>0.017207</td>\n",
       "    </tr>\n",
       "    <tr>\n",
       "      <th>3</th>\n",
       "      <td>Feather</td>\n",
       "      <td>0.056008</td>\n",
       "    </tr>\n",
       "    <tr>\n",
       "      <th>2</th>\n",
       "      <td>Parquet</td>\n",
       "      <td>0.188803</td>\n",
       "    </tr>\n",
       "    <tr>\n",
       "      <th>0</th>\n",
       "      <td>CSV</td>\n",
       "      <td>10.513075</td>\n",
       "    </tr>\n",
       "  </tbody>\n",
       "</table>\n",
       "</div>"
      ],
      "text/plain": [
       "     Files  Time in seconds\n",
       "1   Pickle         0.017207\n",
       "3  Feather         0.056008\n",
       "2  Parquet         0.188803\n",
       "0      CSV        10.513075"
      ]
     },
     "execution_count": 44,
     "metadata": {},
     "output_type": "execute_result"
    }
   ],
   "source": [
    "file_conversions = pd.DataFrame({\n",
    "    'Files': ['CSV','Pickle','Parquet','Feather',],\n",
    "    'Time in seconds': [ to_csv_result.average,\n",
    "             to_pickle_result.average,\n",
    "             to_parquet_result.average,\n",
    "             to_feather_result.average] })\n",
    "\n",
    "file_conversions.sort_values(by = 'Time in seconds', ascending = True)"
   ]
  },
  {
   "cell_type": "code",
   "execution_count": 73,
   "id": "18a24618",
   "metadata": {},
   "outputs": [
    {
     "data": {
      "image/png": "[encoded data removed]",
      "text/plain": [
       "<Figure size 640x480 with 1 Axes>"
      ]
     },
     "metadata": {},
     "output_type": "display_data"
    }
   ],
   "source": [
    "sns.barplot(x='Files', \n",
    "            y='Time in seconds', \n",
    "            data=file_conversions, \n",
    "           palette='Reds_r')\n",
    "plt.yscale('log')\n",
    "plt.ylabel('Time in seconds - Log Scale')\n",
    "plt.title('File Creation Time for Different File Formats')\n",
    "plt.show()"
   ]
  },
  {
   "cell_type": "markdown",
   "id": "efc498d9",
   "metadata": {},
   "source": [
    "### Analysis of the time taken to retrieve data from different file formats"
   ]
  },
  {
   "cell_type": "code",
   "execution_count": 32,
   "id": "de67d049",
   "metadata": {},
   "outputs": [
    {
     "data": {
      "text/html": [
       "<div>\n",
       "<style scoped>\n",
       "    .dataframe tbody tr th:only-of-type {\n",
       "        vertical-align: middle;\n",
       "    }\n",
       "\n",
       "    .dataframe tbody tr th {\n",
       "        vertical-align: top;\n",
       "    }\n",
       "\n",
       "    .dataframe thead th {\n",
       "        text-align: right;\n",
       "    }\n",
       "</style>\n",
       "<table border=\"1\" class=\"dataframe\">\n",
       "  <thead>\n",
       "    <tr style=\"text-align: right;\">\n",
       "      <th></th>\n",
       "      <th>Files</th>\n",
       "      <th>Time in seconds</th>\n",
       "    </tr>\n",
       "  </thead>\n",
       "  <tbody>\n",
       "    <tr>\n",
       "      <th>1</th>\n",
       "      <td>Pickle</td>\n",
       "      <td>0.012159</td>\n",
       "    </tr>\n",
       "    <tr>\n",
       "      <th>3</th>\n",
       "      <td>Feather</td>\n",
       "      <td>0.030858</td>\n",
       "    </tr>\n",
       "    <tr>\n",
       "      <th>2</th>\n",
       "      <td>Parquet</td>\n",
       "      <td>0.046834</td>\n",
       "    </tr>\n",
       "    <tr>\n",
       "      <th>0</th>\n",
       "      <td>CSV</td>\n",
       "      <td>0.668744</td>\n",
       "    </tr>\n",
       "  </tbody>\n",
       "</table>\n",
       "</div>"
      ],
      "text/plain": [
       "     Files  Time in seconds\n",
       "1   Pickle         0.012159\n",
       "3  Feather         0.030858\n",
       "2  Parquet         0.046834\n",
       "0      CSV         0.668744"
      ]
     },
     "execution_count": 32,
     "metadata": {},
     "output_type": "execute_result"
    }
   ],
   "source": [
    "df_conversions = pd.DataFrame({\n",
    "    'Files': ['CSV','Pickle','Parquet','Feather',],\n",
    "    'Time in seconds': [ df_csv_result.average,\n",
    "             df_pickle_result.average,\n",
    "             df_parquet_result.average,\n",
    "             df_feather_result.average] })\n",
    "\n",
    "df_conversions.sort_values(by = 'Time in seconds', ascending = True)"
   ]
  },
  {
   "cell_type": "code",
   "execution_count": 74,
   "id": "09bf1871",
   "metadata": {},
   "outputs": [
    {
     "data": {
      "image/png": "[encoded data removed]",
      "text/plain": [
       "<Figure size 640x480 with 1 Axes>"
      ]
     },
     "metadata": {},
     "output_type": "display_data"
    }
   ],
   "source": [
    "sns.barplot(x='Files', \n",
    "            y='Time in seconds', \n",
    "            data=df_conversions,\n",
    "           palette='viridis')\n",
    "plt.yscale('log')\n",
    "plt.ylabel('Time in seconds - Log Scale')\n",
    "plt.title('Retrieval Time for Different File Formats')\n",
    "plt.show()"
   ]
  },
  {
   "cell_type": "markdown",
   "id": "c41b3852",
   "metadata": {},
   "source": [
    "### Analysis of the space occupied by different file formats to store data "
   ]
  },
  {
   "cell_type": "code",
   "execution_count": 36,
   "id": "e649e323",
   "metadata": {},
   "outputs": [
    {
     "data": {
      "text/html": [
       "<div>\n",
       "<style scoped>\n",
       "    .dataframe tbody tr th:only-of-type {\n",
       "        vertical-align: middle;\n",
       "    }\n",
       "\n",
       "    .dataframe tbody tr th {\n",
       "        vertical-align: top;\n",
       "    }\n",
       "\n",
       "    .dataframe thead th {\n",
       "        text-align: right;\n",
       "    }\n",
       "</style>\n",
       "<table border=\"1\" class=\"dataframe\">\n",
       "  <thead>\n",
       "    <tr style=\"text-align: right;\">\n",
       "      <th></th>\n",
       "      <th>Files</th>\n",
       "      <th>Size</th>\n",
       "    </tr>\n",
       "  </thead>\n",
       "  <tbody>\n",
       "    <tr>\n",
       "      <th>3</th>\n",
       "      <td>Feather</td>\n",
       "      <td>9.78MB</td>\n",
       "    </tr>\n",
       "    <tr>\n",
       "      <th>2</th>\n",
       "      <td>Parquet</td>\n",
       "      <td>7.05MB</td>\n",
       "    </tr>\n",
       "    <tr>\n",
       "      <th>0</th>\n",
       "      <td>CSV</td>\n",
       "      <td>40.16MB</td>\n",
       "    </tr>\n",
       "    <tr>\n",
       "      <th>1</th>\n",
       "      <td>Pickle</td>\n",
       "      <td>16.21MB</td>\n",
       "    </tr>\n",
       "  </tbody>\n",
       "</table>\n",
       "</div>"
      ],
      "text/plain": [
       "     Files     Size\n",
       "3  Feather   9.78MB\n",
       "2  Parquet   7.05MB\n",
       "0      CSV  40.16MB\n",
       "1   Pickle  16.21MB"
      ]
     },
     "execution_count": 36,
     "metadata": {},
     "output_type": "execute_result"
    }
   ],
   "source": [
    "space= pd.DataFrame({\n",
    "    'Files': ['CSV','Pickle','Parquet','Feather',],\n",
    "    'Size': [size_csv,\n",
    "             size_pickle,\n",
    "             size_parquet,\n",
    "             size_feather] })\n",
    "\n",
    "space.sort_values(by = 'Size', ascending = False)"
   ]
  },
  {
   "cell_type": "code",
   "execution_count": 77,
   "id": "b254b9c0",
   "metadata": {},
   "outputs": [
    {
     "data": {
      "image/png": "[encoded data removed]",
      "text/plain": [
       "<Figure size 640x480 with 1 Axes>"
      ]
     },
     "metadata": {},
     "output_type": "display_data"
    }
   ],
   "source": [
    "sns.barplot(x='Files', \n",
    "            y=space['Size'].apply(lambda x: int(''.join(filter(str.isdigit, x)))), \n",
    "            data=space, \n",
    "            palette='plasma')\n",
    "plt.ylabel('Size (Bytes)')\n",
    "plt.title('File Sizes for Different Formats')\n",
    "plt.show()"
   ]
  },
  {
   "cell_type": "code",
   "execution_count": null,
   "id": "2431329f",
   "metadata": {},
   "outputs": [],
   "source": []
  }
 ],
 "metadata": {
  "kernelspec": {
   "display_name": "Python 3 (ipykernel)",
   "language": "python",
   "name": "python3"
  },
  "language_info": {
   "codemirror_mode": {
    "name": "ipython",
    "version": 3
   },
   "file_extension": ".py",
   "mimetype": "text/x-python",
   "name": "python",
   "nbconvert_exporter": "python",
   "pygments_lexer": "ipython3",
   "version": "3.9.13"
  }
 },
 "nbformat": 4,
 "nbformat_minor": 5
}
